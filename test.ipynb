{
 "cells": [
  {
   "cell_type": "code",
   "execution_count": null,
   "id": "a49251d7",
   "metadata": {},
   "outputs": [
    {
     "ename": "",
     "evalue": "",
     "output_type": "error",
     "traceback": [
      "\u001b[1;31mThe Kernel crashed while executing code in the current cell or a previous cell. \n",
      "\u001b[1;31mPlease review the code in the cell(s) to identify a possible cause of the failure. \n",
      "\u001b[1;31mClick <a href='https://aka.ms/vscodeJupyterKernelCrash'>here</a> for more info. \n",
      "\u001b[1;31mView Jupyter <a href='command:jupyter.viewOutput'>log</a> for further details."
     ]
    }
   ],
   "source": [
    "import matplotlib.pyplot as plt\n",
    "import torchvision.transforms.functional as TF\n",
    "\n",
    "from src.datasets.droid_dataset import DroidDataset\n",
    "\n",
    "ds = DroidDataset(data_path=\"data\")\n",
    "ds_iter = iter(ds)\n",
    "\n",
    "for i in range(10):\n",
    "    horizon, obs, act = next(ds_iter)  # horizon: List[(obs_i, act_i)]\n",
    "\n",
    "    # Extract obs images from horizon and convert to numpy\n",
    "    obs_imgs = [TF.to_pil_image(obs_i) for obs_i, _ in horizon]\n",
    "\n",
    "    # Plot them side by side\n",
    "    fig, axs = plt.subplots(1, len(obs_imgs), figsize=(3 * len(obs_imgs), 3))\n",
    "    if len(obs_imgs) == 1:\n",
    "        axs = [axs]\n",
    "    for ax, img in zip(axs, obs_imgs):\n",
    "        ax.imshow(img)\n",
    "        ax.axis(\"off\")\n",
    "    plt.suptitle(f\"Horizon step {i}\")\n",
    "    plt.show()"
   ]
  },
  {
   "cell_type": "code",
   "execution_count": null,
   "id": "f26c680d",
   "metadata": {},
   "outputs": [],
   "source": []
  }
 ],
 "metadata": {
  "kernelspec": {
   "display_name": "venv",
   "language": "python",
   "name": "python3"
  },
  "language_info": {
   "codemirror_mode": {
    "name": "ipython",
    "version": 3
   },
   "file_extension": ".py",
   "mimetype": "text/x-python",
   "name": "python",
   "nbconvert_exporter": "python",
   "pygments_lexer": "ipython3",
   "version": "3.12.3"
  }
 },
 "nbformat": 4,
 "nbformat_minor": 5
}
