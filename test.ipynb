{
 "cells": [
  {
   "cell_type": "code",
   "execution_count": null,
   "id": "a49251d7",
   "metadata": {},
   "outputs": [],
   "source": [
    "import matplotlib.pyplot as plt\n",
    "import torchvision.transforms.functional as TF\n",
    "\n",
    "from src.datasets.droid_dataset import DroidDatasetIterable as DroidDataset\n",
    "\n",
    "ds = DroidDataset(data_path=\"data\")\n",
    "ds_iter = iter(ds)\n",
    "\n",
    "for i in range(10):\n",
    "    sample = next(ds_iter)\n",
    "\n",
    "    context_obs = sample[\"context_obs\"]  # [H, C, H, W]\n",
    "    obs = sample[\"obs\"]  # [C, H, W]\n",
    "\n",
    "    # Convert each frame in the context to PIL images\n",
    "    obs_imgs = [TF.to_pil_image(img) for img in context_obs]\n",
    "\n",
    "    # Add current obs as the final image\n",
    "    obs_imgs.append(TF.to_pil_image(obs))\n",
    "\n",
    "    # Plot\n",
    "    fig, axs = plt.subplots(1, len(obs_imgs), figsize=(3 * len(obs_imgs), 3))\n",
    "    if len(obs_imgs) == 1:\n",
    "        axs = [axs]\n",
    "    for j, (ax, img) in enumerate(zip(axs, obs_imgs)):\n",
    "        ax.imshow(img)\n",
    "        ax.axis(\"off\")\n",
    "        if j == len(obs_imgs) - 1:\n",
    "            ax.set_title(\"Current\")\n",
    "        else:\n",
    "            ax.set_title(f\"t-{len(obs_imgs) - j - 1}\")\n",
    "    plt.suptitle(f\"Horizon + Current Step {i}\")\n",
    "    plt.show()"
   ]
  }
 ],
 "metadata": {
  "kernelspec": {
   "display_name": "venv",
   "language": "python",
   "name": "python3"
  },
  "language_info": {
   "codemirror_mode": {
    "name": "ipython",
    "version": 3
   },
   "file_extension": ".py",
   "mimetype": "text/x-python",
   "name": "python",
   "nbconvert_exporter": "python",
   "pygments_lexer": "ipython3",
   "version": "3.12.3"
  }
 },
 "nbformat": 4,
 "nbformat_minor": 5
}
