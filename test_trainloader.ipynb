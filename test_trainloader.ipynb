{
 "cells": [
  {
   "cell_type": "code",
   "execution_count": null,
   "id": "db4f0e87",
   "metadata": {},
   "outputs": [],
   "source": [
    "import matplotlib.pyplot as plt\n",
    "import torchvision.transforms.functional as TF\n",
    "\n",
    "from configs.config import Config\n",
    "from src.datasets.droid_dataset import DroidDataset\n",
    "\n",
    "cfg = Config()\n",
    "ds = DroidDataset(\n",
    "    data_path=cfg.data.data_dir,\n",
    "    dataset_name=cfg.data.dataset_name,\n",
    "    camera=cfg.data.camera,\n",
    "    horizon=cfg.data.horizon,\n",
    "    img_size=cfg.data.img_size,\n",
    ")\n",
    "print(len(ds))\n",
    "\n",
    "for i in range(10):\n",
    "    sample = ds[-i]\n",
    "\n",
    "    context_obs = sample[\"context_obs\"]\n",
    "    act_obs = sample[\"context_acts\"]\n",
    "    obs = sample[\"obs\"]\n",
    "\n",
    "    obs_imgs = [TF.to_pil_image((img + 1) / 2.0) for img in context_obs]\n",
    "\n",
    "    obs_imgs.append(TF.to_pil_image((obs + 1) / 2.0))\n",
    "\n",
    "    # Plot\n",
    "    fig, axs = plt.subplots(1, len(obs_imgs), figsize=(3 * len(obs_imgs), 3))\n",
    "    if len(obs_imgs) == 1:\n",
    "        axs = [axs]\n",
    "    for j, (ax, img) in enumerate(zip(axs, obs_imgs)):\n",
    "        ax.imshow(img)\n",
    "        ax.axis(\"off\")\n",
    "        if j == len(obs_imgs) - 1:\n",
    "            ax.set_title(\"Current\")\n",
    "        else:\n",
    "            ax.set_title(f\"t-{len(obs_imgs) - j - 1}\")\n",
    "    plt.suptitle(f\"Horizon + Current Step {i}\")\n",
    "    plt.show()"
   ]
  }
 ],
 "metadata": {
  "language_info": {
   "name": "python"
  }
 },
 "nbformat": 4,
 "nbformat_minor": 5
}
